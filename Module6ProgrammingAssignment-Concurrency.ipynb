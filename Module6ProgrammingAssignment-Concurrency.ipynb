{
 "cells": [
  {
   "cell_type": "markdown",
   "id": "ca54c1d1-cc84-4dac-9dbe-0b20bdabff49",
   "metadata": {},
   "source": [
    "<h1>13.1 Write the current date as a string to the text file today.txt </h1>"
   ]
  },
  {
   "cell_type": "code",
   "execution_count": 32,
   "id": "4f57ec81-d967-4422-8678-31123242c326",
   "metadata": {},
   "outputs": [
    {
     "name": "stdout",
     "output_type": "stream",
     "text": [
      "2025-04-23\n"
     ]
    }
   ],
   "source": [
    "from datetime import date\n",
    "\n",
    "currentDate = date.today()\n",
    "print(currentDate)\n",
    "\n",
    "with open(\"currentdate.txt\", \"w\") as file:\n",
    "    file.write(str(currentDate))"
   ]
  },
  {
   "cell_type": "markdown",
   "id": "7ef4866f-0551-4371-981f-0e072803307d",
   "metadata": {},
   "source": [
    "<h1> 13.2 Read the text file today.txt into the string today_string </h1>"
   ]
  },
  {
   "cell_type": "code",
   "execution_count": 35,
   "id": "4647f60c-2a32-45a2-9e9c-8ee7f306df87",
   "metadata": {},
   "outputs": [
    {
     "name": "stdout",
     "output_type": "stream",
     "text": [
      "2025-04-23\n"
     ]
    }
   ],
   "source": [
    "with open(\"currentdate.txt\", \"r\") as file:\n",
    "    today_string = file.read()\n",
    "\n",
    "print(today_string)"
   ]
  },
  {
   "cell_type": "markdown",
   "id": "dc4032d4-3f01-4216-9eca-5c68b59f16d3",
   "metadata": {},
   "source": [
    "<h1> 13.3 Parse the date from today_string </h1>"
   ]
  },
  {
   "cell_type": "code",
   "execution_count": 43,
   "id": "08b14c6a-6c3a-4499-a100-aa291af28ac3",
   "metadata": {},
   "outputs": [
    {
     "name": "stdout",
     "output_type": "stream",
     "text": [
      "Parsed Date: 2025-04-23\n"
     ]
    }
   ],
   "source": [
    "from datetime import datetime\n",
    "\n",
    "fmt = \"%Y-%m-%d\"\n",
    "\n",
    "with open(\"currentdate.txt\", \"r\") as file:\n",
    "    today_string = file.read()\n",
    "\n",
    "dateAsObject = datetime.strptime(today_string, fmt).date()\n",
    "\n",
    "print(\"Parsed Date:\", dateAsObject)"
   ]
  },
  {
   "cell_type": "markdown",
   "id": "2c92a354-fbb6-433d-81df-6d8b5e01bded",
   "metadata": {},
   "source": [
    "<h1> 15.1 Use multiprocessing to create three separate processes. Make each one wait a random number of seconds between zero and one, print the current time, and then exit.</h1>"
   ]
  },
  {
   "cell_type": "code",
   "execution_count": null,
   "id": "761ae847-362e-454b-9fbe-49e91b20cc54",
   "metadata": {},
   "outputs": [],
   "source": [
    "import multiprocessing\n",
    "import os\n",
    "from datetime import datetime\n",
    "import time\n",
    "import random\n",
    "\n",
    "def print_time():\n",
    "    sleepTime = random.uniform(0,1)\n",
    "    time.sleep(sleepTime)\n",
    "    print(f\"After a sleep of {sleepTime} seconds, the current time is now {datetime.now().strftime('%H:%M:%S')}\")\n",
    "\n",
    "if __name__ == \"__main__\":\n",
    "    jobs = []\n",
    "    for n in range(3):\n",
    "        p = multiprocessing.Process(target=print_time)\n",
    "        jobs.append(p)\n",
    "        p.start()\n",
    "\n",
    "    for job in jobs:\n",
    "        job.join()\n",
    "\n"
   ]
  },
  {
   "cell_type": "code",
   "execution_count": null,
   "id": "e2e56db8-2b4a-40cd-9f02-9c890275a997",
   "metadata": {},
   "outputs": [],
   "source": []
  },
  {
   "cell_type": "code",
   "execution_count": null,
   "id": "c6320b04-16f9-465f-8982-dfd7b1f2efbe",
   "metadata": {},
   "outputs": [],
   "source": []
  }
 ],
 "metadata": {
  "kernelspec": {
   "display_name": "Python [conda env:base] *",
   "language": "python",
   "name": "conda-base-py"
  },
  "language_info": {
   "codemirror_mode": {
    "name": "ipython",
    "version": 3
   },
   "file_extension": ".py",
   "mimetype": "text/x-python",
   "name": "python",
   "nbconvert_exporter": "python",
   "pygments_lexer": "ipython3",
   "version": "3.12.7"
  }
 },
 "nbformat": 4,
 "nbformat_minor": 5
}
